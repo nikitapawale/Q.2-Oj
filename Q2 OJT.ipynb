{
 "cells": [
  {
   "cell_type": "raw",
   "id": "0e55481f-7a2c-4d6d-911a-02718c35ebb5",
   "metadata": {},
   "source": [
    "Q2. Row Echelon Form: \n",
    "Create a 5x5 matrix, A, with entries randomly chosen integers between 0 and 9. To generate the \n",
    "random matrix, set the random seed as the last two digits of your roll number. Reduce matrix A to its \n",
    "Row Echelon Form by performing elementary row operations."
   ]
  },
  {
   "cell_type": "code",
   "execution_count": 1,
   "id": "43798472-1c72-4d15-b9c3-4d6c09228981",
   "metadata": {},
   "outputs": [],
   "source": [
    "import numpy as np"
   ]
  },
  {
   "cell_type": "code",
   "execution_count": 4,
   "id": "08d91ea4-45bf-46cb-97fa-b6a9ec102023",
   "metadata": {},
   "outputs": [
    {
     "name": "stdout",
     "output_type": "stream",
     "text": [
      "Matrix A\n",
      " [[1 6 6 9 0]\n",
      " [6 4 7 4 7]\n",
      " [1 1 9 8 2]\n",
      " [3 6 6 9 9]\n",
      " [1 5 1 0 5]]\n"
     ]
    }
   ],
   "source": [
    "np.random.seed(17)\n",
    "A=np.random.randint(0,10,size=(5,5))\n",
    "print(\"Matrix A\\n\",A)"
   ]
  },
  {
   "cell_type": "code",
   "execution_count": 7,
   "id": "fa299f81-056f-4afc-924a-76d3786d5fb0",
   "metadata": {},
   "outputs": [
    {
     "name": "stdout",
     "output_type": "stream",
     "text": [
      "Row Echelon Form of matrix\n",
      " [[1 6 6 9 0]\n",
      " [0 1 0 1 0]\n",
      " [0 0 1 1 0]\n",
      " [0 0 0 1 1]\n",
      " [0 0 0 0 1]]\n"
     ]
    }
   ],
   "source": [
    "def row_echelon_form(matrix):\n",
    "    A = matrix.copy()\n",
    "    num_rows, num_cols = A.shape\n",
    "    leading_col = 0  \n",
    "\n",
    "    for r in range(num_rows):\n",
    "        if leading_col >= num_cols:\n",
    "            break\n",
    "        \n",
    "        pivot_row = r\n",
    "        while pivot_row < num_rows and A[pivot_row, leading_col] == 0:\n",
    "            pivot_row += 1\n",
    "        \n",
    "        if pivot_row < num_rows:\n",
    "           \n",
    "            A[[pivot_row, r]] = A[[r, pivot_row]]\n",
    "            A[r] = A[r] / A[r, leading_col]\n",
    "            for i in range(r + 1, num_rows):\n",
    "                A[i] = A[i] - A[i, leading_col] * A[r]\n",
    "        \n",
    "        leading_col += 1\n",
    "    \n",
    "    return A\n",
    "B=row_echelon_form(A)\n",
    "print(\"Row Echelon Form of matrix\\n\",B)"
   ]
  },
  {
   "cell_type": "code",
   "execution_count": null,
   "id": "905c0c1f-deb1-4dd9-90a1-76d5ff0d3c2f",
   "metadata": {},
   "outputs": [],
   "source": []
  }
 ],
 "metadata": {
  "kernelspec": {
   "display_name": "Python 3 (ipykernel)",
   "language": "python",
   "name": "python3"
  },
  "language_info": {
   "codemirror_mode": {
    "name": "ipython",
    "version": 3
   },
   "file_extension": ".py",
   "mimetype": "text/x-python",
   "name": "python",
   "nbconvert_exporter": "python",
   "pygments_lexer": "ipython3",
   "version": "3.11.7"
  }
 },
 "nbformat": 4,
 "nbformat_minor": 5
}
